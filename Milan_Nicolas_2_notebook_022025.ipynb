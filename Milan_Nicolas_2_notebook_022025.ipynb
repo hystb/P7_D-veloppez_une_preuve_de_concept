{
 "cells": [
  {
   "cell_type": "markdown",
   "metadata": {},
   "source": [
    "# Import"
   ]
  },
  {
   "cell_type": "code",
   "execution_count": 3,
   "metadata": {},
   "outputs": [],
   "source": [
    "import os\n",
    "import pandas as pd\n",
    "import pretty_midi\n",
    "import librosa\n",
    "import librosa.display\n",
    "import matplotlib.pyplot as plt\n",
    "import torch\n",
    "import numpy as np\n",
    "import subprocess\n",
    "from basic_pitch_torch.inference import predict\n",
    "from tqdm.notebook import tqdm"
   ]
  },
  {
   "cell_type": "markdown",
   "metadata": {},
   "source": [
    "### Path to dataset"
   ]
  },
  {
   "cell_type": "code",
   "execution_count": 1,
   "metadata": {},
   "outputs": [],
   "source": [
    "DATA_DIR = \"C:/Users/milan/Documents/oc/p7/maestro-v3.0.0/maestro-v3.0.0/\""
   ]
  },
  {
   "cell_type": "markdown",
   "metadata": {},
   "source": [
    "### Loding CSV with all files path as feature and descrition of the music"
   ]
  },
  {
   "cell_type": "code",
   "execution_count": 4,
   "metadata": {},
   "outputs": [
    {
     "data": {
      "application/vnd.microsoft.datawrangler.viewer.v0+json": {
       "columns": [
        {
         "name": "index",
         "rawType": "int64",
         "type": "integer"
        },
        {
         "name": "canonical_composer",
         "rawType": "object",
         "type": "string"
        },
        {
         "name": "canonical_title",
         "rawType": "object",
         "type": "string"
        },
        {
         "name": "split",
         "rawType": "object",
         "type": "string"
        },
        {
         "name": "year",
         "rawType": "int64",
         "type": "integer"
        },
        {
         "name": "midi_filename",
         "rawType": "object",
         "type": "string"
        },
        {
         "name": "audio_filename",
         "rawType": "object",
         "type": "string"
        },
        {
         "name": "duration",
         "rawType": "float64",
         "type": "float"
        }
       ],
       "conversionMethod": "pd.DataFrame",
       "ref": "5c8bebb4-a5c9-45e1-844f-57a9ffe49c8b",
       "rows": [
        [
         "0",
         "Alban Berg",
         "Sonata Op. 1",
         "train",
         "2008",
         "2008/MIDI-Unprocessed_03_R2_2008_01-03_ORIG_MID--AUDIO_03_R2_2008_wav--2.midi",
         "2008/MIDI-Unprocessed_03_R2_2008_01-03_ORIG_MID--AUDIO_03_R2_2008_wav--2.wav",
         "759.51847125"
        ],
        [
         "1",
         "Alban Berg",
         "Sonata Op. 1",
         "train",
         "2018",
         "2018/MIDI-Unprocessed_Chamber3_MID--AUDIO_10_R3_2018_wav--1.midi",
         "2018/MIDI-Unprocessed_Chamber3_MID--AUDIO_10_R3_2018_wav--1.wav",
         "698.661160312"
        ],
        [
         "2",
         "Alban Berg",
         "Sonata Op. 1",
         "train",
         "2017",
         "2017/MIDI-Unprocessed_066_PIANO066_MID--AUDIO-split_07-07-17_Piano-e_3-02_wav--3.midi",
         "2017/MIDI-Unprocessed_066_PIANO066_MID--AUDIO-split_07-07-17_Piano-e_3-02_wav--3.wav",
         "464.649432608"
        ],
        [
         "3",
         "Alexander Scriabin",
         "24 Preludes Op. 11, No. 13-24",
         "train",
         "2004",
         "2004/MIDI-Unprocessed_XP_21_R1_2004_01_ORIG_MID--AUDIO_21_R1_2004_01_Track01_wav.midi",
         "2004/MIDI-Unprocessed_XP_21_R1_2004_01_ORIG_MID--AUDIO_21_R1_2004_01_Track01_wav.wav",
         "872.640588096"
        ],
        [
         "4",
         "Alexander Scriabin",
         "3 Etudes, Op. 65",
         "validation",
         "2006",
         "2006/MIDI-Unprocessed_17_R1_2006_01-06_ORIG_MID--AUDIO_17_R1_2006_04_Track04_wav.midi",
         "2006/MIDI-Unprocessed_17_R1_2006_01-06_ORIG_MID--AUDIO_17_R1_2006_04_Track04_wav.wav",
         "397.857508125"
        ]
       ],
       "shape": {
        "columns": 7,
        "rows": 5
       }
      },
      "text/html": [
       "<div>\n",
       "<style scoped>\n",
       "    .dataframe tbody tr th:only-of-type {\n",
       "        vertical-align: middle;\n",
       "    }\n",
       "\n",
       "    .dataframe tbody tr th {\n",
       "        vertical-align: top;\n",
       "    }\n",
       "\n",
       "    .dataframe thead th {\n",
       "        text-align: right;\n",
       "    }\n",
       "</style>\n",
       "<table border=\"1\" class=\"dataframe\">\n",
       "  <thead>\n",
       "    <tr style=\"text-align: right;\">\n",
       "      <th></th>\n",
       "      <th>canonical_composer</th>\n",
       "      <th>canonical_title</th>\n",
       "      <th>split</th>\n",
       "      <th>year</th>\n",
       "      <th>midi_filename</th>\n",
       "      <th>audio_filename</th>\n",
       "      <th>duration</th>\n",
       "    </tr>\n",
       "  </thead>\n",
       "  <tbody>\n",
       "    <tr>\n",
       "      <th>0</th>\n",
       "      <td>Alban Berg</td>\n",
       "      <td>Sonata Op. 1</td>\n",
       "      <td>train</td>\n",
       "      <td>2008</td>\n",
       "      <td>2008/MIDI-Unprocessed_03_R2_2008_01-03_ORIG_MI...</td>\n",
       "      <td>2008/MIDI-Unprocessed_03_R2_2008_01-03_ORIG_MI...</td>\n",
       "      <td>759.518471</td>\n",
       "    </tr>\n",
       "    <tr>\n",
       "      <th>1</th>\n",
       "      <td>Alban Berg</td>\n",
       "      <td>Sonata Op. 1</td>\n",
       "      <td>train</td>\n",
       "      <td>2018</td>\n",
       "      <td>2018/MIDI-Unprocessed_Chamber3_MID--AUDIO_10_R...</td>\n",
       "      <td>2018/MIDI-Unprocessed_Chamber3_MID--AUDIO_10_R...</td>\n",
       "      <td>698.661160</td>\n",
       "    </tr>\n",
       "    <tr>\n",
       "      <th>2</th>\n",
       "      <td>Alban Berg</td>\n",
       "      <td>Sonata Op. 1</td>\n",
       "      <td>train</td>\n",
       "      <td>2017</td>\n",
       "      <td>2017/MIDI-Unprocessed_066_PIANO066_MID--AUDIO-...</td>\n",
       "      <td>2017/MIDI-Unprocessed_066_PIANO066_MID--AUDIO-...</td>\n",
       "      <td>464.649433</td>\n",
       "    </tr>\n",
       "    <tr>\n",
       "      <th>3</th>\n",
       "      <td>Alexander Scriabin</td>\n",
       "      <td>24 Preludes Op. 11, No. 13-24</td>\n",
       "      <td>train</td>\n",
       "      <td>2004</td>\n",
       "      <td>2004/MIDI-Unprocessed_XP_21_R1_2004_01_ORIG_MI...</td>\n",
       "      <td>2004/MIDI-Unprocessed_XP_21_R1_2004_01_ORIG_MI...</td>\n",
       "      <td>872.640588</td>\n",
       "    </tr>\n",
       "    <tr>\n",
       "      <th>4</th>\n",
       "      <td>Alexander Scriabin</td>\n",
       "      <td>3 Etudes, Op. 65</td>\n",
       "      <td>validation</td>\n",
       "      <td>2006</td>\n",
       "      <td>2006/MIDI-Unprocessed_17_R1_2006_01-06_ORIG_MI...</td>\n",
       "      <td>2006/MIDI-Unprocessed_17_R1_2006_01-06_ORIG_MI...</td>\n",
       "      <td>397.857508</td>\n",
       "    </tr>\n",
       "  </tbody>\n",
       "</table>\n",
       "</div>"
      ],
      "text/plain": [
       "   canonical_composer                canonical_title       split  year  \\\n",
       "0          Alban Berg                   Sonata Op. 1       train  2008   \n",
       "1          Alban Berg                   Sonata Op. 1       train  2018   \n",
       "2          Alban Berg                   Sonata Op. 1       train  2017   \n",
       "3  Alexander Scriabin  24 Preludes Op. 11, No. 13-24       train  2004   \n",
       "4  Alexander Scriabin               3 Etudes, Op. 65  validation  2006   \n",
       "\n",
       "                                       midi_filename  \\\n",
       "0  2008/MIDI-Unprocessed_03_R2_2008_01-03_ORIG_MI...   \n",
       "1  2018/MIDI-Unprocessed_Chamber3_MID--AUDIO_10_R...   \n",
       "2  2017/MIDI-Unprocessed_066_PIANO066_MID--AUDIO-...   \n",
       "3  2004/MIDI-Unprocessed_XP_21_R1_2004_01_ORIG_MI...   \n",
       "4  2006/MIDI-Unprocessed_17_R1_2006_01-06_ORIG_MI...   \n",
       "\n",
       "                                      audio_filename    duration  \n",
       "0  2008/MIDI-Unprocessed_03_R2_2008_01-03_ORIG_MI...  759.518471  \n",
       "1  2018/MIDI-Unprocessed_Chamber3_MID--AUDIO_10_R...  698.661160  \n",
       "2  2017/MIDI-Unprocessed_066_PIANO066_MID--AUDIO-...  464.649433  \n",
       "3  2004/MIDI-Unprocessed_XP_21_R1_2004_01_ORIG_MI...  872.640588  \n",
       "4  2006/MIDI-Unprocessed_17_R1_2006_01-06_ORIG_MI...  397.857508  "
      ]
     },
     "metadata": {},
     "output_type": "display_data"
    }
   ],
   "source": [
    "csv_path = os.path.join(DATA_DIR, \"maestro-v3.0.0.csv\")\n",
    "df = pd.read_csv(csv_path)\n",
    "display(df.head())"
   ]
  },
  {
   "cell_type": "code",
   "execution_count": null,
   "metadata": {},
   "outputs": [],
   "source": [
    "def generate_midi_basic_pitch(audio_path):\n",
    "    '''\n",
    "    make prediction on audio file and save midi file\n",
    "    '''\n",
    "    save_path = audio_path.replace(\".wav\", \"_bp.mid\")\n",
    "    audio_path = DATA_DIR + audio_path\n",
    "    midi_output_path = audio_path.replace(\".wav\", \"_bp.mid\")\n",
    "    if os.path.exists(midi_output_path):\n",
    "        print(f\"Déjà existant : {midi_output_path}\")\n",
    "        return save_path\n",
    "    try:\n",
    "        model_output, midi_data, note_events = predict(audio_path)\n",
    "        midi_data.write(midi_output_path)\n",
    "        return save_path\n",
    "    except Exception as e:\n",
    "        print(f\"Erreur avec {audio_path}: {e}\")\n",
    "        return None"
   ]
  },
  {
   "cell_type": "code",
   "execution_count": null,
   "metadata": {},
   "outputs": [],
   "source": [
    "def generate_midi_melodia(audio_path):\n",
    "    '''\n",
    "    make prediction on audio file and save midi file\n",
    "    '''\n",
    "    save_path = audio_path.replace(\".wav\", \".mid\")\n",
    "    audio_path = DATA_DIR + audio_path\n",
    "    midi_output_path = audio_path.replace(\".wav\", \".mid\") \n",
    "    if os.path.exists(midi_output_path):\n",
    "        print(f\"Déjà existant : {midi_output_path}\")\n",
    "        return save_path\n",
    "    try:\n",
    "        cmd = f'sonic-annotator -d vamp:mtg-melodia:melodia -w midi \"{audio_path}\"'\n",
    "        subprocess.run(cmd, shell=True, check=True)\n",
    "        return save_path\n",
    "    except Exception as e:\n",
    "        print(f\"Erreur avec {audio_path}: {e}\")\n",
    "        return None"
   ]
  },
  {
   "cell_type": "markdown",
   "metadata": {},
   "source": [
    "### Make prediction for Basic pitch, save the file and put the path in the dataframe"
   ]
  },
  {
   "cell_type": "code",
   "execution_count": null,
   "metadata": {},
   "outputs": [],
   "source": [
    "df[\"midi_bp\"] = df[\"audio_filename\"].apply(generate_midi_basic_pitch)\n"
   ]
  },
  {
   "cell_type": "markdown",
   "metadata": {},
   "source": [
    "### Look if all files are not empty"
   ]
  },
  {
   "cell_type": "code",
   "execution_count": null,
   "metadata": {},
   "outputs": [
    {
     "name": "stdout",
     "output_type": "stream",
     "text": [
      "1204\n",
      "              year     duration\n",
      "count  1276.000000  1276.000000\n",
      "mean   2011.302508   560.463595\n",
      "std       4.353338   443.057431\n",
      "min    2004.000000    45.155208\n",
      "25%    2008.000000   261.981576\n",
      "50%    2011.000000   429.168241\n",
      "75%    2015.000000   685.018817\n",
      "max    2018.000000  2624.663508\n"
     ]
    }
   ],
   "source": [
    "print(df[\"midi_bp\"].notnull().sum())\n",
    "print(df.describe())"
   ]
  },
  {
   "cell_type": "markdown",
   "metadata": {},
   "source": [
    "### Make prediction for Melodia, save the file and put the path in the dataframe"
   ]
  },
  {
   "cell_type": "code",
   "execution_count": null,
   "metadata": {},
   "outputs": [],
   "source": [
    "df[\"midi_melodia\"] = df[\"audio_filename\"].apply(generate_midi_melodia)"
   ]
  },
  {
   "cell_type": "markdown",
   "metadata": {},
   "source": [
    "### Look if all files are not empty"
   ]
  },
  {
   "cell_type": "code",
   "execution_count": null,
   "metadata": {},
   "outputs": [
    {
     "name": "stdout",
     "output_type": "stream",
     "text": [
      "1275\n",
      "              year     duration\n",
      "count  1276.000000  1276.000000\n",
      "mean   2011.302508   560.463595\n",
      "std       4.353338   443.057431\n",
      "min    2004.000000    45.155208\n",
      "25%    2008.000000   261.981576\n",
      "50%    2011.000000   429.168241\n",
      "75%    2015.000000   685.018817\n",
      "max    2018.000000  2624.663508\n"
     ]
    }
   ],
   "source": [
    "print(df[\"midi_melodia\"].notnull().sum())\n",
    "print(df.describe())"
   ]
  },
  {
   "cell_type": "markdown",
   "metadata": {},
   "source": [
    "### Delete files where prediction was empty"
   ]
  },
  {
   "cell_type": "code",
   "execution_count": null,
   "metadata": {},
   "outputs": [],
   "source": [
    "df.dropna().to_csv(\"maestro_and_predict.csv\", index=False)"
   ]
  },
  {
   "cell_type": "code",
   "execution_count": null,
   "metadata": {},
   "outputs": [],
   "source": [
    "midi_df = df.dropna()"
   ]
  },
  {
   "cell_type": "code",
   "execution_count": null,
   "metadata": {},
   "outputs": [
    {
     "name": "stdout",
     "output_type": "stream",
     "text": [
      "2008/MIDI-Unprocessed_03_R2_2008_01-03_ORIG_MID--AUDIO_03_R2_2008_wav--2_bp.mid\n"
     ]
    }
   ],
   "source": [
    "print(midi_df[\"midi_bp\"][0])"
   ]
  },
  {
   "cell_type": "code",
   "execution_count": null,
   "metadata": {},
   "outputs": [],
   "source": [
    "def extract_notes(midi_path):\n",
    "        \"\"\" Extract notes from a midi file. \"\"\"\n",
    "        midi_data = pretty_midi.PrettyMIDI(DATA_DIR + midi_path)\n",
    "        notes = []\n",
    "        for instrument in midi_data.instruments:\n",
    "            for note in instrument.notes:\n",
    "                notes.append((note.pitch, note.start, note.end, note.velocity))\n",
    "        return pd.DataFrame(notes, columns=[\"Note\", \"Start_Time\", \"End_Time\", \"Velocity\"])\n",
    "\n",
    "def calculate_metrics(original, pred):\n",
    "        \"\"\" Calculate F1 Score, recall and precision. \"\"\"\n",
    "        total_original = len(original)\n",
    "        total_pred = len(pred)\n",
    "        matched_notes = original.merge(pred, on=\"Note\", how=\"inner\")\n",
    "        true_positives = len(matched_notes)\n",
    "\n",
    "        precision = true_positives / total_pred if total_pred > 0 else 0\n",
    "        recall = true_positives / total_original if total_original > 0 else 0\n",
    "        f1_score = 2 * (precision * recall) / (precision + recall) if (precision + recall) > 0 else 0\n",
    "\n",
    "        return f1_score, precision, recall"
   ]
  },
  {
   "cell_type": "markdown",
   "metadata": {},
   "source": [
    "## Create a new dataframe where features are path as primary key, the metrics, one dataframe per predict and the original midi "
   ]
  },
  {
   "cell_type": "code",
   "execution_count": null,
   "metadata": {},
   "outputs": [],
   "source": [
    "results = []\n",
    "for _, row in tqdm(midi_df.iterrows(), total=len(midi_df), desc=\"Traitement des fichiers MIDI\"):\n",
    "    original_notes = extract_notes(row[\"midi_filename\"])\n",
    "    if original_notes.empty:\n",
    "        continue\n",
    "    basic_pitch_notes = extract_notes(row[\"midi_bp\"])\n",
    "    melodia_notes = extract_notes(row[\"midi_melodia\"])\n",
    "\n",
    "    f1_bp, precision_bp, recall_bp = calculate_metrics(original_notes, basic_pitch_notes)\n",
    "    f1_mel, precision_mel, recall_mel = calculate_metrics(original_notes, melodia_notes)\n",
    "\n",
    "    results.append({\n",
    "        \"morceau\": row[\"audio_filename\"],\n",
    "        \"original_notes\": original_notes,\n",
    "        \"basic_pitch_notes\": basic_pitch_notes,\n",
    "        \"melodia_notes\": melodia_notes,\n",
    "        \"F1 Score BP\": f1_bp,\n",
    "        \"Précision BP\": precision_bp,\n",
    "        \"Rappel BP\": recall_bp,\n",
    "        \"F1 Score Mel\": f1_mel,\n",
    "        \"Précision Mel\": precision_mel,\n",
    "        \"Rappel Mel\": recall_mel,\n",
    "    })\n",
    "\n",
    "final_df = pd.DataFrame(results)"
   ]
  },
  {
   "cell_type": "markdown",
   "metadata": {},
   "source": [
    "### Save the results"
   ]
  },
  {
   "cell_type": "code",
   "execution_count": null,
   "metadata": {},
   "outputs": [],
   "source": [
    "final_df.to_csv(\"metrics.csv\", index=False)"
   ]
  }
 ],
 "metadata": {
  "kernelspec": {
   "display_name": ".oc",
   "language": "python",
   "name": "python3"
  },
  "language_info": {
   "codemirror_mode": {
    "name": "ipython",
    "version": 3
   },
   "file_extension": ".py",
   "mimetype": "text/x-python",
   "name": "python",
   "nbconvert_exporter": "python",
   "pygments_lexer": "ipython3",
   "version": "3.11.9"
  }
 },
 "nbformat": 4,
 "nbformat_minor": 2
}
